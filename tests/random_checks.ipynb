{
 "cells": [
  {
   "cell_type": "code",
   "execution_count": 2,
   "id": "175c4623",
   "metadata": {},
   "outputs": [
    {
     "name": "stdout",
     "output_type": "stream",
     "text": [
      "Collecting pyspainmobility\n",
      "  Using cached pyspainmobility-0.1-py3-none-any.whl.metadata (1.2 kB)\n",
      "Requirement already satisfied: pandas~=2.2.3 in /home/ciro/miniconda3/envs/data_science/lib/python3.10/site-packages (from pyspainmobility) (2.2.3)\n",
      "Collecting geopandas~=1.0.1 (from pyspainmobility)\n",
      "  Using cached geopandas-1.0.1-py3-none-any.whl.metadata (2.2 kB)\n",
      "Requirement already satisfied: tqdm>=4.0.0 in /home/ciro/miniconda3/envs/data_science/lib/python3.10/site-packages (from pyspainmobility) (4.67.1)\n",
      "Requirement already satisfied: matplotlib>=3.0.0 in /home/ciro/miniconda3/envs/data_science/lib/python3.10/site-packages (from pyspainmobility) (3.10.0)\n",
      "Collecting pyarrow>=8.0.0 (from pyspainmobility)\n",
      "  Using cached pyarrow-20.0.0-cp310-cp310-manylinux_2_28_x86_64.whl.metadata (3.3 kB)\n",
      "Requirement already satisfied: numpy>=1.22 in /home/ciro/miniconda3/envs/data_science/lib/python3.10/site-packages (from geopandas~=1.0.1->pyspainmobility) (2.2.2)\n",
      "Collecting pyogrio>=0.7.2 (from geopandas~=1.0.1->pyspainmobility)\n",
      "  Using cached pyogrio-0.11.0-cp310-cp310-manylinux_2_28_x86_64.whl.metadata (5.3 kB)\n",
      "Requirement already satisfied: packaging in /home/ciro/miniconda3/envs/data_science/lib/python3.10/site-packages (from geopandas~=1.0.1->pyspainmobility) (24.2)\n",
      "Collecting pyproj>=3.3.0 (from geopandas~=1.0.1->pyspainmobility)\n",
      "  Using cached pyproj-3.7.1-cp310-cp310-manylinux_2_17_x86_64.manylinux2014_x86_64.whl.metadata (31 kB)\n",
      "Collecting shapely>=2.0.0 (from geopandas~=1.0.1->pyspainmobility)\n",
      "  Using cached shapely-2.1.1-cp310-cp310-manylinux_2_17_x86_64.manylinux2014_x86_64.whl.metadata (6.7 kB)\n",
      "Requirement already satisfied: contourpy>=1.0.1 in /home/ciro/miniconda3/envs/data_science/lib/python3.10/site-packages (from matplotlib>=3.0.0->pyspainmobility) (1.3.1)\n",
      "Requirement already satisfied: cycler>=0.10 in /home/ciro/miniconda3/envs/data_science/lib/python3.10/site-packages (from matplotlib>=3.0.0->pyspainmobility) (0.11.0)\n",
      "Requirement already satisfied: fonttools>=4.22.0 in /home/ciro/miniconda3/envs/data_science/lib/python3.10/site-packages (from matplotlib>=3.0.0->pyspainmobility) (4.55.3)\n",
      "Requirement already satisfied: kiwisolver>=1.3.1 in /home/ciro/miniconda3/envs/data_science/lib/python3.10/site-packages (from matplotlib>=3.0.0->pyspainmobility) (1.4.8)\n",
      "Requirement already satisfied: pillow>=8 in /home/ciro/miniconda3/envs/data_science/lib/python3.10/site-packages (from matplotlib>=3.0.0->pyspainmobility) (11.1.0)\n",
      "Requirement already satisfied: pyparsing>=2.3.1 in /home/ciro/miniconda3/envs/data_science/lib/python3.10/site-packages (from matplotlib>=3.0.0->pyspainmobility) (3.2.0)\n",
      "Requirement already satisfied: python-dateutil>=2.7 in /home/ciro/miniconda3/envs/data_science/lib/python3.10/site-packages (from matplotlib>=3.0.0->pyspainmobility) (2.9.0.post0)\n",
      "Requirement already satisfied: pytz>=2020.1 in /home/ciro/miniconda3/envs/data_science/lib/python3.10/site-packages (from pandas~=2.2.3->pyspainmobility) (2024.1)\n",
      "Requirement already satisfied: tzdata>=2022.7 in /home/ciro/miniconda3/envs/data_science/lib/python3.10/site-packages (from pandas~=2.2.3->pyspainmobility) (2023.3)\n",
      "Requirement already satisfied: certifi in /home/ciro/miniconda3/envs/data_science/lib/python3.10/site-packages (from pyogrio>=0.7.2->geopandas~=1.0.1->pyspainmobility) (2025.1.31)\n",
      "Requirement already satisfied: six>=1.5 in /home/ciro/miniconda3/envs/data_science/lib/python3.10/site-packages (from python-dateutil>=2.7->matplotlib>=3.0.0->pyspainmobility) (1.16.0)\n",
      "Using cached pyspainmobility-0.1-py3-none-any.whl (10 kB)\n",
      "Using cached geopandas-1.0.1-py3-none-any.whl (323 kB)\n",
      "Using cached pyarrow-20.0.0-cp310-cp310-manylinux_2_28_x86_64.whl (42.3 MB)\n",
      "Using cached pyogrio-0.11.0-cp310-cp310-manylinux_2_28_x86_64.whl (27.6 MB)\n",
      "Using cached pyproj-3.7.1-cp310-cp310-manylinux_2_17_x86_64.manylinux2014_x86_64.whl (9.3 MB)\n",
      "Using cached shapely-2.1.1-cp310-cp310-manylinux_2_17_x86_64.manylinux2014_x86_64.whl (3.1 MB)\n",
      "Installing collected packages: shapely, pyproj, pyogrio, pyarrow, geopandas, pyspainmobility\n",
      "Successfully installed geopandas-1.0.1 pyarrow-20.0.0 pyogrio-0.11.0 pyproj-3.7.1 pyspainmobility-0.1 shapely-2.1.1\n"
     ]
    }
   ],
   "source": [
    "!pip install pyspainmobility"
   ]
  },
  {
   "cell_type": "code",
   "execution_count": 6,
   "id": "8ecb3f89",
   "metadata": {},
   "outputs": [
    {
     "name": "stdout",
     "output_type": "stream",
     "text": [
      "0.1.0\n"
     ]
    }
   ],
   "source": [
    "import pyspainmobility\n",
    "from pyspainmobility import Zones, Mobility\n",
    "print(pyspainmobility.__version__)   \n"
   ]
  },
  {
   "cell_type": "code",
   "execution_count": 5,
   "id": "1d70503f",
   "metadata": {},
   "outputs": [
    {
     "name": "stdout",
     "output_type": "stream",
     "text": [
      "Downloading file from https://movilidad-opendata.mitma.es/estudios_basicos/por-municipios/viajes/ficheros-diarios/2022-01/20220101_Viajes_municipios.csv.gz\n",
      "Downloading file from https://movilidad-opendata.mitma.es/estudios_basicos/por-municipios/viajes/ficheros-diarios/2022-01/20220102_Viajes_municipios.csv.gz\n",
      "Generating parquet file for ODs....\n"
     ]
    },
    {
     "name": "stderr",
     "output_type": "stream",
     "text": [
      "100%|██████████| 2/2 [00:42<00:00, 21.27s/it]\n"
     ]
    },
    {
     "name": "stdout",
     "output_type": "stream",
     "text": [
      "Concatenating all the dataframes....\n",
      "Writing the parquet file....\n",
      "Parquet file generated successfully at  /home/ciro/~/Desktop/spain/data/Viajes_municipios_2022-01-01_2022-01-02_v2.parquet\n",
      "Downloading file from https://movilidad-opendata.mitma.es/estudios_basicos/por-municipios/pernoctaciones/ficheros-diarios/2022-01/20220101_Pernoctaciones_municipios.csv.gz\n",
      "Downloading file from https://movilidad-opendata.mitma.es/estudios_basicos/por-municipios/pernoctaciones/ficheros-diarios/2022-01/20220102_Pernoctaciones_municipios.csv.gz\n",
      "Generating parquet file for Overnight Stays....\n"
     ]
    },
    {
     "name": "stderr",
     "output_type": "stream",
     "text": [
      "100%|██████████| 2/2 [00:00<00:00,  6.99it/s]\n"
     ]
    },
    {
     "name": "stdout",
     "output_type": "stream",
     "text": [
      "Concatenating all the dataframes....\n",
      "Writing the parquet file....\n",
      "Parquet file generated successfully at  /home/ciro/~/Desktop/spain/data/Pernoctaciones_municipios_2022-01-01_2022-01-02_v2.parquet\n",
      "Downloading file from https://movilidad-opendata.mitma.es/estudios_basicos/por-municipios/personas/ficheros-diarios/2022-01/20220101_Personas_dia_municipios.csv.gz\n",
      "Downloading file from https://movilidad-opendata.mitma.es/estudios_basicos/por-municipios/personas/ficheros-diarios/2022-01/20220102_Personas_dia_municipios.csv.gz\n",
      "Generating parquet file for Overnight Stays....\n"
     ]
    },
    {
     "name": "stderr",
     "output_type": "stream",
     "text": [
      "100%|██████████| 2/2 [00:00<00:00, 23.28it/s]"
     ]
    },
    {
     "name": "stdout",
     "output_type": "stream",
     "text": [
      "Concatenating all the dataframes....\n",
      "Writing the parquet file....\n",
      "Parquet file generated successfully at  /home/ciro/~/Desktop/spain/data/Personas_municipios_2022-01-01_2022-01-02_v2.parquet\n"
     ]
    },
    {
     "name": "stderr",
     "output_type": "stream",
     "text": [
      "\n"
     ]
    }
   ],
   "source": [
    "from pyspainmobility import Mobility\n",
    "# instantiate the object\n",
    "mobility_data = Mobility(version=2, zones='municipalities', start_date='2022-01-01', end_date='2022-01-02', output_directory='~/Desktop/spain/data/')\n",
    "# download and save the origin-destination data\n",
    "mobility_data.get_od_data(keep_activity=True)\n",
    "# download and save the overnight stays data\n",
    "mobility_data.get_overnight_stays_data()\n",
    "# download and save the number of trips data\n",
    "mobility_data.get_number_of_trips_data()"
   ]
  },
  {
   "cell_type": "code",
   "execution_count": null,
   "id": "03f0f102",
   "metadata": {},
   "outputs": [
    {
     "name": "stdout",
     "output_type": "stream",
     "text": [
      "Downloading file from https://movilidad-opendata.mitma.es/estudios_basicos/por-municipios/viajes/ficheros-diarios/2022-01/20220101_Viajes_municipios.csv.gz\n",
      "Generating parquet file for ODs....\n"
     ]
    },
    {
     "name": "stderr",
     "output_type": "stream",
     "text": [
      "0it [00:00, ?it/s]"
     ]
    },
    {
     "name": "stdout",
     "output_type": "stream",
     "text": [
      "Concatenating all the dataframes....\n"
     ]
    },
    {
     "name": "stderr",
     "output_type": "stream",
     "text": [
      "\n"
     ]
    },
    {
     "ename": "ValueError",
     "evalue": "No objects to concatenate",
     "output_type": "error",
     "traceback": [
      "\u001b[0;31m---------------------------------------------------------------------------\u001b[0m",
      "\u001b[0;31mValueError\u001b[0m                                Traceback (most recent call last)",
      "Cell \u001b[0;32mIn[7], line 5\u001b[0m\n\u001b[1;32m      3\u001b[0m mobility_data \u001b[38;5;241m=\u001b[39m Mobility(version\u001b[38;5;241m=\u001b[39m\u001b[38;5;241m2\u001b[39m, zones\u001b[38;5;241m=\u001b[39m\u001b[38;5;124m'\u001b[39m\u001b[38;5;124mmunicipalities\u001b[39m\u001b[38;5;124m'\u001b[39m, start_date\u001b[38;5;241m=\u001b[39m\u001b[38;5;124m'\u001b[39m\u001b[38;5;124m2022-01-01\u001b[39m\u001b[38;5;124m'\u001b[39m, end_date\u001b[38;5;241m=\u001b[39m\u001b[38;5;124m'\u001b[39m\u001b[38;5;124m2022-01-01\u001b[39m\u001b[38;5;124m'\u001b[39m, output_directory\u001b[38;5;241m=\u001b[39m\u001b[38;5;124m'\u001b[39m\u001b[38;5;124m/Desktop/spain/data/\u001b[39m\u001b[38;5;124m'\u001b[39m)\n\u001b[1;32m      4\u001b[0m \u001b[38;5;66;03m# download and save the origin-destination data\u001b[39;00m\n\u001b[0;32m----> 5\u001b[0m \u001b[43mmobility_data\u001b[49m\u001b[38;5;241;43m.\u001b[39;49m\u001b[43mget_od_data\u001b[49m\u001b[43m(\u001b[49m\u001b[43mkeep_activity\u001b[49m\u001b[38;5;241;43m=\u001b[39;49m\u001b[38;5;28;43;01mTrue\u001b[39;49;00m\u001b[43m)\u001b[49m\n\u001b[1;32m      6\u001b[0m \u001b[38;5;66;03m# download and save the od data and return the dataframe\u001b[39;00m\n\u001b[1;32m      7\u001b[0m df \u001b[38;5;241m=\u001b[39m mobility_data\u001b[38;5;241m.\u001b[39mget_od_data(keep_activity\u001b[38;5;241m=\u001b[39m\u001b[38;5;28;01mFalse\u001b[39;00m, return_df\u001b[38;5;241m=\u001b[39m\u001b[38;5;28;01mTrue\u001b[39;00m)\n",
      "File \u001b[0;32m~/miniconda3/envs/data_science/lib/python3.10/site-packages/pyspainmobility/mobility/mobility.py:162\u001b[0m, in \u001b[0;36mMobility.get_od_data\u001b[0;34m(self, keep_activity, return_df)\u001b[0m\n\u001b[1;32m    160\u001b[0m     df \u001b[38;5;241m=\u001b[39m temp_dfs[\u001b[38;5;241m0\u001b[39m]\n\u001b[1;32m    161\u001b[0m \u001b[38;5;28;01melse\u001b[39;00m:\n\u001b[0;32m--> 162\u001b[0m     df \u001b[38;5;241m=\u001b[39m \u001b[43mpd\u001b[49m\u001b[38;5;241;43m.\u001b[39;49m\u001b[43mconcat\u001b[49m\u001b[43m(\u001b[49m\u001b[43mtemp_dfs\u001b[49m\u001b[43m)\u001b[49m\n\u001b[1;32m    163\u001b[0m \u001b[38;5;28mself\u001b[39m\u001b[38;5;241m.\u001b[39m_saving_parquet(df, m_type)\n\u001b[1;32m    165\u001b[0m \u001b[38;5;28;01mif\u001b[39;00m return_df:\n",
      "File \u001b[0;32m~/miniconda3/envs/data_science/lib/python3.10/site-packages/pandas/core/reshape/concat.py:382\u001b[0m, in \u001b[0;36mconcat\u001b[0;34m(objs, axis, join, ignore_index, keys, levels, names, verify_integrity, sort, copy)\u001b[0m\n\u001b[1;32m    379\u001b[0m \u001b[38;5;28;01melif\u001b[39;00m copy \u001b[38;5;129;01mand\u001b[39;00m using_copy_on_write():\n\u001b[1;32m    380\u001b[0m     copy \u001b[38;5;241m=\u001b[39m \u001b[38;5;28;01mFalse\u001b[39;00m\n\u001b[0;32m--> 382\u001b[0m op \u001b[38;5;241m=\u001b[39m \u001b[43m_Concatenator\u001b[49m\u001b[43m(\u001b[49m\n\u001b[1;32m    383\u001b[0m \u001b[43m    \u001b[49m\u001b[43mobjs\u001b[49m\u001b[43m,\u001b[49m\n\u001b[1;32m    384\u001b[0m \u001b[43m    \u001b[49m\u001b[43maxis\u001b[49m\u001b[38;5;241;43m=\u001b[39;49m\u001b[43maxis\u001b[49m\u001b[43m,\u001b[49m\n\u001b[1;32m    385\u001b[0m \u001b[43m    \u001b[49m\u001b[43mignore_index\u001b[49m\u001b[38;5;241;43m=\u001b[39;49m\u001b[43mignore_index\u001b[49m\u001b[43m,\u001b[49m\n\u001b[1;32m    386\u001b[0m \u001b[43m    \u001b[49m\u001b[43mjoin\u001b[49m\u001b[38;5;241;43m=\u001b[39;49m\u001b[43mjoin\u001b[49m\u001b[43m,\u001b[49m\n\u001b[1;32m    387\u001b[0m \u001b[43m    \u001b[49m\u001b[43mkeys\u001b[49m\u001b[38;5;241;43m=\u001b[39;49m\u001b[43mkeys\u001b[49m\u001b[43m,\u001b[49m\n\u001b[1;32m    388\u001b[0m \u001b[43m    \u001b[49m\u001b[43mlevels\u001b[49m\u001b[38;5;241;43m=\u001b[39;49m\u001b[43mlevels\u001b[49m\u001b[43m,\u001b[49m\n\u001b[1;32m    389\u001b[0m \u001b[43m    \u001b[49m\u001b[43mnames\u001b[49m\u001b[38;5;241;43m=\u001b[39;49m\u001b[43mnames\u001b[49m\u001b[43m,\u001b[49m\n\u001b[1;32m    390\u001b[0m \u001b[43m    \u001b[49m\u001b[43mverify_integrity\u001b[49m\u001b[38;5;241;43m=\u001b[39;49m\u001b[43mverify_integrity\u001b[49m\u001b[43m,\u001b[49m\n\u001b[1;32m    391\u001b[0m \u001b[43m    \u001b[49m\u001b[43mcopy\u001b[49m\u001b[38;5;241;43m=\u001b[39;49m\u001b[43mcopy\u001b[49m\u001b[43m,\u001b[49m\n\u001b[1;32m    392\u001b[0m \u001b[43m    \u001b[49m\u001b[43msort\u001b[49m\u001b[38;5;241;43m=\u001b[39;49m\u001b[43msort\u001b[49m\u001b[43m,\u001b[49m\n\u001b[1;32m    393\u001b[0m \u001b[43m\u001b[49m\u001b[43m)\u001b[49m\n\u001b[1;32m    395\u001b[0m \u001b[38;5;28;01mreturn\u001b[39;00m op\u001b[38;5;241m.\u001b[39mget_result()\n",
      "File \u001b[0;32m~/miniconda3/envs/data_science/lib/python3.10/site-packages/pandas/core/reshape/concat.py:445\u001b[0m, in \u001b[0;36m_Concatenator.__init__\u001b[0;34m(self, objs, axis, join, keys, levels, names, ignore_index, verify_integrity, copy, sort)\u001b[0m\n\u001b[1;32m    442\u001b[0m \u001b[38;5;28mself\u001b[39m\u001b[38;5;241m.\u001b[39mverify_integrity \u001b[38;5;241m=\u001b[39m verify_integrity\n\u001b[1;32m    443\u001b[0m \u001b[38;5;28mself\u001b[39m\u001b[38;5;241m.\u001b[39mcopy \u001b[38;5;241m=\u001b[39m copy\n\u001b[0;32m--> 445\u001b[0m objs, keys \u001b[38;5;241m=\u001b[39m \u001b[38;5;28;43mself\u001b[39;49m\u001b[38;5;241;43m.\u001b[39;49m\u001b[43m_clean_keys_and_objs\u001b[49m\u001b[43m(\u001b[49m\u001b[43mobjs\u001b[49m\u001b[43m,\u001b[49m\u001b[43m \u001b[49m\u001b[43mkeys\u001b[49m\u001b[43m)\u001b[49m\n\u001b[1;32m    447\u001b[0m \u001b[38;5;66;03m# figure out what our result ndim is going to be\u001b[39;00m\n\u001b[1;32m    448\u001b[0m ndims \u001b[38;5;241m=\u001b[39m \u001b[38;5;28mself\u001b[39m\u001b[38;5;241m.\u001b[39m_get_ndims(objs)\n",
      "File \u001b[0;32m~/miniconda3/envs/data_science/lib/python3.10/site-packages/pandas/core/reshape/concat.py:507\u001b[0m, in \u001b[0;36m_Concatenator._clean_keys_and_objs\u001b[0;34m(self, objs, keys)\u001b[0m\n\u001b[1;32m    504\u001b[0m     objs_list \u001b[38;5;241m=\u001b[39m \u001b[38;5;28mlist\u001b[39m(objs)\n\u001b[1;32m    506\u001b[0m \u001b[38;5;28;01mif\u001b[39;00m \u001b[38;5;28mlen\u001b[39m(objs_list) \u001b[38;5;241m==\u001b[39m \u001b[38;5;241m0\u001b[39m:\n\u001b[0;32m--> 507\u001b[0m     \u001b[38;5;28;01mraise\u001b[39;00m \u001b[38;5;167;01mValueError\u001b[39;00m(\u001b[38;5;124m\"\u001b[39m\u001b[38;5;124mNo objects to concatenate\u001b[39m\u001b[38;5;124m\"\u001b[39m)\n\u001b[1;32m    509\u001b[0m \u001b[38;5;28;01mif\u001b[39;00m keys \u001b[38;5;129;01mis\u001b[39;00m \u001b[38;5;28;01mNone\u001b[39;00m:\n\u001b[1;32m    510\u001b[0m     objs_list \u001b[38;5;241m=\u001b[39m \u001b[38;5;28mlist\u001b[39m(com\u001b[38;5;241m.\u001b[39mnot_none(\u001b[38;5;241m*\u001b[39mobjs_list))\n",
      "\u001b[0;31mValueError\u001b[0m: No objects to concatenate"
     ]
    }
   ],
   "source": [
    "from pyspainmobility import Mobility\n",
    "# instantiate the object\n",
    "mobility_data = Mobility(version=2, zones='municipalities', start_date='2022-01-01', end_date='2022-01-01', output_directory='~/Desktop/spain/data/')\n",
    "# download and save the origin-destination data\n",
    "mobility_data.get_od_data(keep_activity=True)\n",
    "# download and save the od data and return the dataframe\n",
    "df = mobility_data.get_od_data(keep_activity=False, return_df=True)\n",
    "print(df.head())"
   ]
  },
  {
   "cell_type": "code",
   "execution_count": 13,
   "id": "894e9baf",
   "metadata": {},
   "outputs": [
    {
     "name": "stdout",
     "output_type": "stream",
     "text": [
      "Zones already downloaded. Reading the files....\n"
     ]
    },
    {
     "name": "stderr",
     "output_type": "stream",
     "text": [
      "/home/ciro/miniconda3/envs/data_science/lib/python3.10/site-packages/pyogrio/raw.py:198: RuntimeWarning: /home/ciro/data/zonificacion_municipios.shp contains polygon(s) with rings with invalid winding order. Autocorrecting them, but that shapefile should be corrected using ogr2ogr for example.\n",
      "  return ogr_read(\n"
     ]
    },
    {
     "name": "stdout",
     "output_type": "stream",
     "text": [
      "         field_1                                 name population  \\\n",
      "id                                                                 \n",
      "01001          0                     Alegría-Dulantzi     2925.0   \n",
      "01002          1                              Amurrio    10307.0   \n",
      "01004_AM       2  Artziniega agregacion de municipios     3005.0   \n",
      "01009_AM       3   Asparrena agregacion de municipios     4599.0   \n",
      "01010          4                          Ayala/Aiara     2951.0   \n",
      "\n",
      "                                                   geometry  \n",
      "id                                                           \n",
      "01001     MULTIPOLYGON (((537856.746 4737194.234, 537510...  \n",
      "01002     MULTIPOLYGON (((501945.074 4753856.867, 501884...  \n",
      "01004_AM  MULTIPOLYGON (((488800.394 4778871.324, 488807...  \n",
      "01009_AM  POLYGON ((554658.552 4740793.546, 554617.177 4...  \n",
      "01010     POLYGON ((499938.436 4768365.76, 499305.175 47...  \n"
     ]
    }
   ],
   "source": [
    "from pyspainmobility import Zones\n",
    "import os\n",
    "\n",
    "\n",
    "os.makedirs(\"data\", exist_ok=True)\n",
    "\n",
    "# instantiate the object\n",
    "zones = Zones(zones='municipalities', version=2, output_directory='data')\n",
    "# get the geodataframe with the zones\n",
    "gdf = zones.get_zone_geodataframe()\n",
    "print(gdf.head())"
   ]
  },
  {
   "cell_type": "code",
   "execution_count": null,
   "id": "8be8e687",
   "metadata": {},
   "outputs": [
    {
     "name": "stdout",
     "output_type": "stream",
     "text": [
      "Unzipped /home/ciro/data/zonificacion_municipios.zip to /home/ciro/data\n",
      "Zones already downloaded. Reading the files....\n"
     ]
    },
    {
     "ename": "AttributeError",
     "evalue": "'NoneType' object has no attribute 'head'",
     "output_type": "error",
     "traceback": [
      "\u001b[0;31m---------------------------------------------------------------------------\u001b[0m",
      "\u001b[0;31mAttributeError\u001b[0m                            Traceback (most recent call last)",
      "Cell \u001b[0;32mIn[12], line 11\u001b[0m\n\u001b[1;32m      9\u001b[0m \u001b[38;5;66;03m# get the geodataframe with the zones\u001b[39;00m\n\u001b[1;32m     10\u001b[0m gdf \u001b[38;5;241m=\u001b[39m zones\u001b[38;5;241m.\u001b[39mget_zone_geodataframe()\n\u001b[0;32m---> 11\u001b[0m \u001b[38;5;28mprint\u001b[39m(\u001b[43mgdf\u001b[49m\u001b[38;5;241;43m.\u001b[39;49m\u001b[43mhead\u001b[49m())\n",
      "\u001b[0;31mAttributeError\u001b[0m: 'NoneType' object has no attribute 'head'"
     ]
    }
   ],
   "source": [
    "from pyspainmobility import Zones\n",
    "import os\n",
    "\n",
    "\n",
    "os.makedirs(\"data\", exist_ok=True)\n",
    "\n",
    "# instantiate the object\n",
    "zones = Zones(zones='municipalities', version=1, output_directory='data')\n",
    "# get the geodataframe with the zones\n",
    "gdf = zones.get_zone_geodataframe()\n",
    "\n",
    "print(gdf.head())"
   ]
  }
 ],
 "metadata": {
  "kernelspec": {
   "display_name": "data_science",
   "language": "python",
   "name": "python3"
  },
  "language_info": {
   "codemirror_mode": {
    "name": "ipython",
    "version": 3
   },
   "file_extension": ".py",
   "mimetype": "text/x-python",
   "name": "python",
   "nbconvert_exporter": "python",
   "pygments_lexer": "ipython3",
   "version": "3.10.16"
  }
 },
 "nbformat": 4,
 "nbformat_minor": 5
}
